{
 "cells": [
  {
   "cell_type": "code",
   "execution_count": 1,
   "metadata": {},
   "outputs": [
    {
     "name": "stderr",
     "output_type": "stream",
     "text": [
      "Creating volume species 'vm1'\n",
      "Creating surface species 'sm1'\n",
      "Creating volume species 'vm2'\n",
      "Creating reaction vm1, + sm1' -> vm2, [1.00E+08]\n",
      "Creating mesh object 'Torus'\n",
      "Creating region 'half'\n",
      "Creating surface class that is absorptive to sm1;\n",
      "Creating release site 'sm1_Torus_half_rel'\n",
      "Creating release site 'vm1_Torus_rel'\n",
      "Output 'vm1' for viz data.\n",
      "Output 'vm2' for viz data.\n",
      "Output 'sm1' for viz data.\n"
     ]
    }
   ],
   "source": [
    "#!/usr/bin/env python\n",
    "\n",
    "import pymcell as m\n",
    "from pymcell import SC\n",
    "import torus\n",
    "import logging\n",
    "\n",
    "iterations = 10\n",
    "time_step = 1e-5\n",
    "seed = 1\n",
    "world = m.MCellSim(seed)\n",
    "world.enable_logging()\n",
    "world.set_time_step(time_step)\n",
    "world.set_iterations(iterations)\n",
    "world.set_output_freq(1)\n",
    "\n",
    "# define species\n",
    "vm1 = m.Species(\"vm1\", 1e-6)\n",
    "sm1 = m.Species(\"sm1\", 1e-6, surface=True)\n",
    "vm2 = m.Species(\"vm2\", 1e-6)\n",
    "world.add_species((vm1, sm1, vm2))\n",
    "\n",
    "# define reaction\n",
    "rxn = m.Reaction((vm1.down(), sm1.up()), (vm2.down(), ), 1e8, name=\"create_vm2\")\n",
    "world.add_reaction(rxn)\n",
    "\n",
    "# create torus object\n",
    "torus_obj = m.MeshObj(\"Torus\", torus.vert_list, torus.face_list)\n",
    "torus_reg = m.SurfaceRegion(torus_obj, 'half', torus.surf_reg_face_list)\n",
    "world.add_geometry(torus_obj)\n",
    "\n",
    "# Create surface class to absorb vm1\n",
    "sc = m.SurfaceClass(SC.absorb, sm1.mix())\n",
    "world.assign_surf_class(sc, torus_reg)\n",
    "\n",
    "# release molecules into torus\n",
    "sm1_torus_rel = m.ObjectRelease(sm1.up(), number=1000, meshobj=torus_obj, region=torus_reg)\n",
    "world.release(sm1_torus_rel)\n",
    "vm1_torus_rel = m.ObjectRelease(vm1, number=1000, meshobj=torus_obj)\n",
    "world.release(vm1_torus_rel)\n",
    "\n",
    "# viz and reaction data\n",
    "world.add_viz((vm1, vm2, sm1))\n",
    "world.add_count(vm1, torus_obj)\n",
    "world.add_count(vm2, torus_obj)\n",
    "world.add_count(sm1, torus_obj)\n",
    "\n",
    "# set partitions\n",
    "world.add_partitions('x', -1.3, 1.3, 0.05)\n",
    "world.add_partitions('y', -1.3, 1.3, 0.05)\n",
    "world.add_partitions('z', -0.275, 0.275, 0.05)\n",
    "\n",
    "world.run_sim()\n",
    "world.end_sim()"
   ]
  },
  {
   "cell_type": "code",
   "execution_count": null,
   "metadata": {
    "collapsed": true
   },
   "outputs": [],
   "source": []
  }
 ],
 "metadata": {
  "kernelspec": {
   "display_name": "Python 3",
   "language": "python",
   "name": "python3"
  },
  "language_info": {
   "codemirror_mode": {
    "name": "ipython",
    "version": 3
   },
   "file_extension": ".py",
   "mimetype": "text/x-python",
   "name": "python",
   "nbconvert_exporter": "python",
   "pygments_lexer": "ipython3",
   "version": "3.6.1"
  }
 },
 "nbformat": 4,
 "nbformat_minor": 2
}
